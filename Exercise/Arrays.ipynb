{
 "cells": [
  {
   "cell_type": "code",
   "execution_count": 1,
   "metadata": {},
   "outputs": [],
   "source": [
    "import numpy as np"
   ]
  },
  {
   "cell_type": "code",
   "execution_count": 33,
   "metadata": {},
   "outputs": [
    {
     "ename": "ValueError",
     "evalue": "data type must provide an itemsize",
     "output_type": "error",
     "traceback": [
      "\u001b[1;31m---------------------------------------------------------------------------\u001b[0m",
      "\u001b[1;31mValueError\u001b[0m                                Traceback (most recent call last)",
      "Cell \u001b[1;32mIn[33], line 4\u001b[0m\n\u001b[0;32m      2\u001b[0m arr1 \u001b[38;5;241m=\u001b[39m np\u001b[38;5;241m.\u001b[39marray([\u001b[38;5;241m1\u001b[39m,\u001b[38;5;124m\"\u001b[39m\u001b[38;5;124mABC\u001b[39m\u001b[38;5;124m\"\u001b[39m,\u001b[38;5;241m3\u001b[39m])\n\u001b[0;32m      3\u001b[0m arr2 \u001b[38;5;241m=\u001b[39m np\u001b[38;5;241m.\u001b[39marray([\u001b[38;5;241m1\u001b[39m,\u001b[38;5;241m2\u001b[39m,\u001b[38;5;241m3\u001b[39m])\n\u001b[1;32m----> 4\u001b[0m arraydot \u001b[38;5;241m=\u001b[39m \u001b[43mnp\u001b[49m\u001b[38;5;241;43m.\u001b[39;49m\u001b[43mdot\u001b[49m\u001b[43m(\u001b[49m\u001b[43marr1\u001b[49m\u001b[43m,\u001b[49m\u001b[43marr2\u001b[49m\u001b[43m)\u001b[49m\n\u001b[0;32m      5\u001b[0m \u001b[38;5;28mprint\u001b[39m(arr1)\n\u001b[0;32m      6\u001b[0m \u001b[38;5;28mprint\u001b[39m(arr2)\n",
      "\u001b[1;31mValueError\u001b[0m: data type must provide an itemsize"
     ]
    }
   ],
   "source": [
    "#dot takes 2 arrays (1-D) and it provides scalar value as output\n",
    "\n",
    "arr1 = np.array([1,\"ABC\",3])\n",
    "arr2 = np.array([1,2,3])\n",
    "arraydot = np.dot(arr1,arr2)\n",
    "print(arr1)\n",
    "print(arr2)\n",
    "print(arraydot)\n"
   ]
  },
  {
   "cell_type": "code",
   "execution_count": 47,
   "metadata": {},
   "outputs": [
    {
     "name": "stdout",
     "output_type": "stream",
     "text": [
      "<class 'numpy.ndarray'>\n",
      "<class 'numpy.ndarray'>\n",
      "[[1 2]\n",
      " [1 2]]\n",
      "[[1 2 3 4]\n",
      " [1 2 3 4]]\n",
      "[[ 3  6  9 12]\n",
      " [ 3  6  9 12]]\n"
     ]
    }
   ],
   "source": [
    "#dot takes 2 arrays (2-D) and it provides scalar value as output\n",
    "arr3 = np.array([[1,2],[1,2]])\n",
    "print(type(arr3))\n",
    "arr4 = np.array([[1,2,3,4],[1,2,3,4]])\n",
    "print(type(arr4))\n",
    "arraydot2d = np.dot(arr3,arr4)\n",
    "print(arr3)\n",
    "print(arr4)\n",
    "print(arraydot2d)\n"
   ]
  },
  {
   "cell_type": "code",
   "execution_count": 38,
   "metadata": {},
   "outputs": [
    {
     "name": "stdout",
     "output_type": "stream",
     "text": [
      "<class 'numpy.ndarray'>\n",
      "<class 'numpy.ndarray'>\n",
      "[[1 2]\n",
      " [1 2]\n",
      " [1 2]]\n",
      "[[1 2 3]\n",
      " [1 2 3]]\n",
      "Dot:\n",
      "[[3 6 9]\n",
      " [3 6 9]\n",
      " [3 6 9]]\n"
     ]
    }
   ],
   "source": [
    "arr3 = np.array([[1,2],[1,2],[1,2]])\n",
    "print(type(arr3))\n",
    "arr4 = np.array([[1,2,3],[1,2,3]])\n",
    "print(type(arr4))\n",
    "arraydot2d = np.dot(arr3,arr4)\n",
    "print(\"Dot:\")\n",
    "print(arraydot2d)"
   ]
  },
  {
   "cell_type": "code",
   "execution_count": 44,
   "metadata": {},
   "outputs": [
    {
     "name": "stdout",
     "output_type": "stream",
     "text": [
      "[[1 2]\n",
      " [1 2]]\n",
      "[[1 2]\n",
      " [1 2]]\n",
      "[[3 6]\n",
      " [3 6]]\n"
     ]
    }
   ],
   "source": [
    "#dot takes 2 arrays (1-D) and it provides scalar value as output\n",
    "\n",
    "arr1 = np.array([[1,2],[1,2]])\n",
    "arr2 = np.array([[1,2],[1,2]])\n",
    "arraydot = np.dot(arr1,arr2)\n",
    "print(arr1)\n",
    "print(arr2)\n",
    "print(arraydot)"
   ]
  },
  {
   "cell_type": "code",
   "execution_count": 57,
   "metadata": {},
   "outputs": [
    {
     "name": "stdout",
     "output_type": "stream",
     "text": [
      "[[0.45648284 0.68356848 0.101974  ]\n",
      " [0.9323733  0.8386289  0.63390135]]\n",
      "[[0.28142706 0.87285742]\n",
      " [0.81603685 0.44349354]\n",
      " [0.43515275 0.32953457]]\n",
      "[[0.73065796 0.73520659]\n",
      " [1.22259108 1.39464786]]\n"
     ]
    }
   ],
   "source": [
    "#random.rand generates random array values\n",
    "arrayrand1 = np.random.rand(2,3)\n",
    "print(arrayrand1)\n",
    "arrayrand2 = np.random.rand(3,2)\n",
    "print(arrayrand2)\n",
    "dot = np.dot(arrayrand1,arrayrand2)\n",
    "print(dot)"
   ]
  },
  {
   "cell_type": "code",
   "execution_count": 6,
   "metadata": {},
   "outputs": [
    {
     "name": "stdout",
     "output_type": "stream",
     "text": [
      "[[0.88106414 0.04037663 0.94634191]]\n",
      "[[0.12012503]\n",
      " [0.10858078]\n",
      " [0.88879712]]\n",
      "[[0.95132794]]\n"
     ]
    }
   ],
   "source": [
    "arrayrand1 = np.random.rand(1,3)\n",
    "print(arrayrand1)\n",
    "arrayrand2 = np.random.rand(3,1)\n",
    "print(arrayrand2)\n",
    "dot = np.dot(arrayrand1,arrayrand2)\n",
    "print(dot)"
   ]
  },
  {
   "cell_type": "code",
   "execution_count": 18,
   "metadata": {},
   "outputs": [
    {
     "name": "stdout",
     "output_type": "stream",
     "text": [
      "[[9.56630235 9.75181577 8.22447228]\n",
      " [8.20393823 9.47890113 9.74225293]]\n",
      "[[7.72367042 7.11668071 7.86767068 7.31799844]\n",
      " [8.26520478 7.33588677 8.99214548 7.05976523]\n",
      " [9.19428365 7.55360067 8.28768761 9.31303203]]\n",
      "[[230.10585181 201.74291512 231.11611962 215.44648931]\n",
      " [231.28261079 201.51004271 230.52229112 217.68513734]]\n"
     ]
    }
   ],
   "source": [
    "x1 = np.random.uniform(7,10,size=(2,3))\n",
    "print(x1)\n",
    "x2 = np.random.uniform(7,10,size=(3,4))\n",
    "print(x2)\n",
    "x3 =np.dot(x1,x2)\n",
    "print(x3)\n"
   ]
  }
 ],
 "metadata": {
  "kernelspec": {
   "display_name": ".venv",
   "language": "python",
   "name": "python3"
  },
  "language_info": {
   "codemirror_mode": {
    "name": "ipython",
    "version": 3
   },
   "file_extension": ".py",
   "mimetype": "text/x-python",
   "name": "python",
   "nbconvert_exporter": "python",
   "pygments_lexer": "ipython3",
   "version": "3.12.4"
  }
 },
 "nbformat": 4,
 "nbformat_minor": 2
}
