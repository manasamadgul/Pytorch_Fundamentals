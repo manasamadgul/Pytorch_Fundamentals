{
  "nbformat": 4,
  "nbformat_minor": 0,
  "metadata": {
    "colab": {
      "provenance": [],
      "gpuType": "T4",
      "authorship_tag": "ABX9TyMr8RtpXMT8t0FWEfJiCawF",
      "include_colab_link": true
    },
    "kernelspec": {
      "name": "python3",
      "display_name": "Python 3"
    },
    "language_info": {
      "name": "python"
    },
    "accelerator": "GPU"
  },
  "cells": [
    {
      "cell_type": "markdown",
      "metadata": {
        "id": "view-in-github",
        "colab_type": "text"
      },
      "source": [
        "<a href=\"https://colab.research.google.com/github/manasamadgul/Pytorch_Fundamentals/blob/main/Exercises_Pytorch.ipynb\" target=\"_parent\"><img src=\"https://colab.research.google.com/assets/colab-badge.svg\" alt=\"Open In Colab\"/></a>"
      ]
    },
    {
      "cell_type": "markdown",
      "source": [
        "#Create a random tensor with shape (7, 7).\n"
      ],
      "metadata": {
        "id": "8E1NSmb7kYuQ"
      }
    },
    {
      "cell_type": "code",
      "source": [
        "import torch\n",
        "tensor = torch.rand(7, 7)\n",
        "print(tensor)"
      ],
      "metadata": {
        "colab": {
          "base_uri": "https://localhost:8080/"
        },
        "id": "OkJU8e_Kc1PP",
        "outputId": "6ff050b6-02e7-4a4b-a00d-5eebe00b14d4"
      },
      "execution_count": 1,
      "outputs": [
        {
          "output_type": "stream",
          "name": "stdout",
          "text": [
            "tensor([[0.3679, 0.7224, 0.5724, 0.3712, 0.9331, 0.9794, 0.5155],\n",
            "        [0.6822, 0.3199, 0.5676, 0.9213, 0.9917, 0.9193, 0.4502],\n",
            "        [0.5984, 0.6361, 0.5837, 0.2503, 0.6311, 0.5780, 0.5514],\n",
            "        [0.7117, 0.4076, 0.8097, 0.4352, 0.9588, 0.2248, 0.7928],\n",
            "        [0.1210, 0.5274, 0.7006, 0.2602, 0.1693, 0.3067, 0.7484],\n",
            "        [0.9862, 0.2833, 0.8452, 0.1370, 0.7346, 0.6986, 0.3921],\n",
            "        [0.0658, 0.4283, 0.5319, 0.7635, 0.1708, 0.8073, 0.7660]])\n"
          ]
        }
      ]
    },
    {
      "cell_type": "markdown",
      "source": [
        "#Perform a matrix multiplication on the tensor from 2 with another random tensor with shape (1, 7) (hint: you may have to transpose the second tensor).\n"
      ],
      "metadata": {
        "id": "xhoduWjEdFqu"
      }
    },
    {
      "cell_type": "code",
      "source": [
        "tensor2 = torch.rand(1, 7)\n",
        "result = torch.mm(tensor, tensor2.T)\n",
        "print(result)\n"
      ],
      "metadata": {
        "colab": {
          "base_uri": "https://localhost:8080/"
        },
        "id": "oBbJ7UY1dKLI",
        "outputId": "a033856e-c581-4926-9c56-102c13874535"
      },
      "execution_count": 2,
      "outputs": [
        {
          "output_type": "stream",
          "name": "stdout",
          "text": [
            "tensor([[1.6253],\n",
            "        [1.7519],\n",
            "        [1.4928],\n",
            "        [1.7772],\n",
            "        [0.9736],\n",
            "        [1.8863],\n",
            "        [0.9695]])\n"
          ]
        }
      ]
    },
    {
      "cell_type": "code",
      "source": [
        "#Set the random seed to 0 and do exercises 2 & 3 over again.\n",
        "torch.manual_seed(0)\n",
        "tensor = torch.rand(7,7)\n",
        "print(tensor)\n",
        "torch.manual_seed(0)\n",
        "tensor2 = torch.rand(1,7)\n",
        "print(tensor2)\n",
        "result = torch.mm(tensor, tensor2.T)\n",
        "print(result)"
      ],
      "metadata": {
        "colab": {
          "base_uri": "https://localhost:8080/"
        },
        "id": "UMaDTeYkdyPI",
        "outputId": "b1931e0e-bc00-4f62-f057-3ec6130988cf"
      },
      "execution_count": 5,
      "outputs": [
        {
          "output_type": "stream",
          "name": "stdout",
          "text": [
            "tensor([[0.4963, 0.7682, 0.0885, 0.1320, 0.3074, 0.6341, 0.4901],\n",
            "        [0.8964, 0.4556, 0.6323, 0.3489, 0.4017, 0.0223, 0.1689],\n",
            "        [0.2939, 0.5185, 0.6977, 0.8000, 0.1610, 0.2823, 0.6816],\n",
            "        [0.9152, 0.3971, 0.8742, 0.4194, 0.5529, 0.9527, 0.0362],\n",
            "        [0.1852, 0.3734, 0.3051, 0.9320, 0.1759, 0.2698, 0.1507],\n",
            "        [0.0317, 0.2081, 0.9298, 0.7231, 0.7423, 0.5263, 0.2437],\n",
            "        [0.5846, 0.0332, 0.1387, 0.2422, 0.8155, 0.7932, 0.2783]])\n",
            "tensor([[0.4963, 0.7682, 0.0885, 0.1320, 0.3074, 0.6341, 0.4901]])\n",
            "tensor([[1.5985],\n",
            "        [1.1173],\n",
            "        [1.2741],\n",
            "        [1.6838],\n",
            "        [0.8279],\n",
            "        [1.0347],\n",
            "        [1.2498]])\n"
          ]
        }
      ]
    },
    {
      "cell_type": "markdown",
      "source": [
        "#Speaking of random seeds, we saw how to set it with torch.manual_seed() but is there a GPU equivalent? (hint: you'll need to look into the documentation for torch.cuda for this one). If there is, set the GPU random seed to 1234"
      ],
      "metadata": {
        "id": "fpd8CTUtmYR-"
      }
    },
    {
      "cell_type": "code",
      "source": [
        "#set random seed on GPU\n",
        "new_var = torch.cuda.manual_seed(1234)\n",
        "new_var"
      ],
      "metadata": {
        "id": "KGlB6bf8moVh"
      },
      "execution_count": 5,
      "outputs": []
    },
    {
      "cell_type": "code",
      "source": [
        "#Create two random tensors of shape (2, 3) and send them both to the GPU (you'll need access to a GPU for this). Set torch.manual_seed(1234) when creating the tensors (this doesn't have to be the GPU random seed).\n",
        "import torch\n",
        "#set random seed\n",
        "torch.manual_seed(1234)\n",
        "\n",
        "device = \"cuda\" if torch.cuda.is_available() else \"cpu\"\n",
        "print(f\"Device: {device}\")\n",
        "\n",
        "x = torch.rand(2,3).to(device)\n",
        "print(x)\n",
        "torch.manual_seed(1234)\n",
        "y = torch.rand(2,3).to(device)\n",
        "print(y)"
      ],
      "metadata": {
        "colab": {
          "base_uri": "https://localhost:8080/"
        },
        "id": "uu5m3EP_oD6f",
        "outputId": "4bf68dec-349e-4c5a-e986-88edfc9fe27f"
      },
      "execution_count": 3,
      "outputs": [
        {
          "output_type": "stream",
          "name": "stdout",
          "text": [
            "Device: cuda\n",
            "tensor([[0.0290, 0.4019, 0.2598],\n",
            "        [0.3666, 0.0583, 0.7006]], device='cuda:0')\n",
            "tensor([[0.0290, 0.4019, 0.2598],\n",
            "        [0.3666, 0.0583, 0.7006]], device='cuda:0')\n"
          ]
        }
      ]
    },
    {
      "cell_type": "markdown",
      "source": [
        "#Perform a matrix multiplication on the tensors you created in 6 (again, you may have to adjust the shapes of one of the tensors).\n"
      ],
      "metadata": {
        "id": "RKd3BLcDpwIS"
      }
    },
    {
      "cell_type": "code",
      "source": [
        "#mm - alias for matrix multiplication\n",
        "z = torch.mm(x,y.T)\n",
        "z,z.shape"
      ],
      "metadata": {
        "colab": {
          "base_uri": "https://localhost:8080/"
        },
        "id": "QOA7Mo8-p1oj",
        "outputId": "a266929c-4657-4342-e167-f75e1351dcc0"
      },
      "execution_count": 5,
      "outputs": [
        {
          "output_type": "execute_result",
          "data": {
            "text/plain": [
              "(tensor([[0.2299, 0.2161],\n",
              "         [0.2161, 0.6287]], device='cuda:0'),\n",
              " torch.Size([2, 2]))"
            ]
          },
          "metadata": {},
          "execution_count": 5
        }
      ]
    },
    {
      "cell_type": "markdown",
      "source": [
        "#Find the maximum and minimum values of the output of 7.\n"
      ],
      "metadata": {
        "id": "JkyBP26RqgXQ"
      }
    },
    {
      "cell_type": "code",
      "source": [
        "max = z.max()\n",
        "min = z.min()\n",
        "max,min"
      ],
      "metadata": {
        "colab": {
          "base_uri": "https://localhost:8080/"
        },
        "id": "aOdlxujGqisJ",
        "outputId": "e1c9d47c-ee44-461b-8c37-f33362cee5c9"
      },
      "execution_count": 6,
      "outputs": [
        {
          "output_type": "execute_result",
          "data": {
            "text/plain": [
              "(tensor(0.6287, device='cuda:0'), tensor(0.2161, device='cuda:0'))"
            ]
          },
          "metadata": {},
          "execution_count": 6
        }
      ]
    },
    {
      "cell_type": "markdown",
      "source": [
        "#Find the maximum and minimum index values of the output of 7.\n"
      ],
      "metadata": {
        "id": "jNPO3CRYqxxG"
      }
    },
    {
      "cell_type": "code",
      "source": [
        "maxindex = z.argmax()\n",
        "minindex = z.argmin()\n",
        "maxindex,minindex"
      ],
      "metadata": {
        "colab": {
          "base_uri": "https://localhost:8080/"
        },
        "id": "xH_emI9gq2SM",
        "outputId": "63971b33-5074-4f61-a4a5-1373509332e6"
      },
      "execution_count": 7,
      "outputs": [
        {
          "output_type": "execute_result",
          "data": {
            "text/plain": [
              "(tensor(3, device='cuda:0'), tensor(1, device='cuda:0'))"
            ]
          },
          "metadata": {},
          "execution_count": 7
        }
      ]
    },
    {
      "cell_type": "code",
      "source": [
        "#Make a random tensor with shape (1, 1, 1, 10) and then create a new tensor with all the 1 dimensions removed to be left with a tensor of shape (10). Set the seed to 7 when you create it and print out the first tensor and it's shape as well as the second tensor and it's shape.\n",
        "\n",
        "import torch\n",
        "torch.manual_seed(7)\n",
        "tensor1 = torch.rand(size =(1, 1, 1, 10))\n",
        "print(tensor1, tensor1.shape)\n",
        "tensor2 = tensor1.squeeze()\n",
        "print(tensor2, tensor2.shape)"
      ],
      "metadata": {
        "colab": {
          "base_uri": "https://localhost:8080/"
        },
        "id": "dEVEa-BR84mU",
        "outputId": "b5c9978b-f34b-4033-bacd-bb0620071e53"
      },
      "execution_count": 10,
      "outputs": [
        {
          "output_type": "stream",
          "name": "stdout",
          "text": [
            "tensor([[[[0.5349, 0.1988, 0.6592, 0.6569, 0.2328, 0.4251, 0.2071, 0.6297,\n",
            "           0.3653, 0.8513]]]]) torch.Size([1, 1, 1, 10])\n",
            "tensor([0.5349, 0.1988, 0.6592, 0.6569, 0.2328, 0.4251, 0.2071, 0.6297, 0.3653,\n",
            "        0.8513]) torch.Size([10])\n"
          ]
        }
      ]
    },
    {
      "cell_type": "code",
      "source": [
        "#torch.manual_seed(2)\n",
        "print(torch.rand(2))\n"
      ],
      "metadata": {
        "colab": {
          "base_uri": "https://localhost:8080/"
        },
        "id": "VYJVMefw_D6S",
        "outputId": "d34495f4-ce52-456c-ff75-47e2e49e740e"
      },
      "execution_count": 15,
      "outputs": [
        {
          "output_type": "stream",
          "name": "stdout",
          "text": [
            "tensor([0.6371, 0.4745])\n"
          ]
        }
      ]
    }
  ]
}